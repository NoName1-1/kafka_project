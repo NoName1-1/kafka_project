{
 "cells": [
  {
   "cell_type": "markdown",
   "metadata": {},
   "source": [
    "## Настройка Kafka от Confluent"
   ]
  },
  {
   "cell_type": "markdown",
   "metadata": {},
   "source": [
    "* Документация: https://developer.confluent.io/quickstart/kafka-local/"
   ]
  },
  {
   "cell_type": "markdown",
   "metadata": {},
   "source": [
    "### 1. Установить Apache Kafka"
   ]
  },
  {
   "cell_type": "markdown",
   "metadata": {},
   "source": [
    "- Скачать архив"
   ]
  },
  {
   "cell_type": "raw",
   "metadata": {},
   "source": [
    "curl -O https://packages.confluent.io/archive/7.0/confluent-community-7.0.1.tar.gz"
   ]
  },
  {
   "cell_type": "markdown",
   "metadata": {},
   "source": [
    "- Распаковать"
   ]
  },
  {
   "cell_type": "raw",
   "metadata": {},
   "source": [
    "tar -xf confluent-community-7.0.1.tar.gz"
   ]
  },
  {
   "cell_type": "markdown",
   "metadata": {},
   "source": [
    "- Перейти в папку с Kafka"
   ]
  },
  {
   "cell_type": "raw",
   "metadata": {},
   "source": [
    "cd confluent-7.0.1"
   ]
  },
  {
   "cell_type": "markdown",
   "metadata": {},
   "source": [
    "### 2. Запустить брокер Kafka"
   ]
  },
  {
   "cell_type": "markdown",
   "metadata": {},
   "source": [
    "_Для данного примера брокер запускается в режиме KRaft, т.е. без необходимости установки ZooKeeper (распределенный сервис конфигурирования и синхронизации)_"
   ]
  },
  {
   "cell_type": "markdown",
   "metadata": {},
   "source": [
    "- Сконфигурировать хранилище"
   ]
  },
  {
   "cell_type": "raw",
   "metadata": {},
   "source": [
    "./bin/kafka-storage format \\\n",
    "    --config ./etc/kafka/kraft/server.properties \\\n",
    "    --cluster-id $(./bin/kafka-storage random-uuid)"
   ]
  },
  {
   "cell_type": "markdown",
   "metadata": {},
   "source": [
    "__(!)__ Для работы Kafka требуется установленная Java, без нее команда не выполнится, будет ошибка. Java можно установить с официального сайта: https://www.java.com/ru/download/ После установки команда должна выполниться успешно."
   ]
  },
  {
   "cell_type": "markdown",
   "metadata": {},
   "source": [
    "- Запустить брокер"
   ]
  },
  {
   "cell_type": "raw",
   "metadata": {},
   "source": [
    "./bin/kafka-server-start ./etc/kafka/kraft/server.properties"
   ]
  },
  {
   "cell_type": "markdown",
   "metadata": {},
   "source": [
    "_Терминал должен оставаться открытым, иначе брокер остановит работу_"
   ]
  },
  {
   "cell_type": "markdown",
   "metadata": {},
   "source": [
    "### 3. Создать топик и партиции"
   ]
  },
  {
   "cell_type": "markdown",
   "metadata": {},
   "source": [
    "_Топики лучше создавать явно, не смотря на то, что Kafka автоматически создаст их, если к ним обратиться_"
   ]
  },
  {
   "cell_type": "markdown",
   "metadata": {},
   "source": [
    "- Создать топик с партициями"
   ]
  },
  {
   "cell_type": "raw",
   "metadata": {},
   "source": [
    "./bin/kafka-topics \\\n",
    "    --bootstrap-server localhost:9092 \\\n",
    "    --create \\\n",
    "    --topic quickstart \\\n",
    "    --partitions 2"
   ]
  },
  {
   "cell_type": "markdown",
   "metadata": {},
   "source": [
    "### 4. Запись сообщений в топик"
   ]
  },
  {
   "cell_type": "markdown",
   "metadata": {},
   "source": [
    "_Можно писать сообщения, как через CLI, так и через более высокоуровневые инструменты (Producer API, Kafka Connect etc.)_"
   ]
  },
  {
   "cell_type": "markdown",
   "metadata": {},
   "source": [
    "- Подготовить producer к отправке сообщений"
   ]
  },
  {
   "cell_type": "raw",
   "metadata": {},
   "source": [
    "./bin/kafka-console-producer \\\n",
    "    --bootstrap-server localhost:9092 \\\n",
    "    --topic quickstart"
   ]
  },
  {
   "cell_type": "markdown",
   "metadata": {},
   "source": [
    "_Теперь можно писать сообщения - по одному на каждую строку. Для завершения: Ctrl-D_"
   ]
  },
  {
   "cell_type": "markdown",
   "metadata": {},
   "source": [
    "### 5. Чтение сообщений из топика"
   ]
  },
  {
   "cell_type": "markdown",
   "metadata": {},
   "source": [
    "- Запустить consumer для чтения сообщений"
   ]
  },
  {
   "cell_type": "raw",
   "metadata": {},
   "source": [
    "./bin/kafka-console-consumer \\\n",
    "    --bootstrap-server localhost:9092 \\\n",
    "    --topic quickstart \\\n",
    "    --from-beginning"
   ]
  },
  {
   "cell_type": "markdown",
   "metadata": {},
   "source": [
    "_Прочитали все сообщения, что были записаны в топик producer'ом_"
   ]
  },
  {
   "cell_type": "markdown",
   "metadata": {},
   "source": [
    "### 6. Обмен сообщениями в реальном времени"
   ]
  },
  {
   "cell_type": "markdown",
   "metadata": {},
   "source": [
    "- Оставить consumer включенным и запустить заново producer"
   ]
  },
  {
   "cell_type": "raw",
   "metadata": {},
   "source": [
    "./bin/kafka-console-producer \\\n",
    "    --bootstrap-server localhost:9092 \\\n",
    "    --topic quickstart"
   ]
  },
  {
   "cell_type": "markdown",
   "metadata": {},
   "source": [
    "_Отправить новые сообщения producer'ом и сразу получить их в окне с consumer_"
   ]
  },
  {
   "cell_type": "markdown",
   "metadata": {},
   "source": [
    "- Выйти из producer: Ctrl-D, остановить consumer: Ctrl-C"
   ]
  },
  {
   "cell_type": "markdown",
   "metadata": {},
   "source": [
    "### 7. Остановка брокера Kafka"
   ]
  },
  {
   "cell_type": "markdown",
   "metadata": {},
   "source": [
    "- После окончания обмена сообщениями, остановить брокер Kafka: Ctrl-C"
   ]
  },
  {
   "cell_type": "code",
   "execution_count": null,
   "metadata": {},
   "outputs": [],
   "source": []
  }
 ],
 "metadata": {
  "kernelspec": {
   "display_name": "Python 3",
   "language": "python",
   "name": "python3"
  },
  "language_info": {
   "codemirror_mode": {
    "name": "ipython",
    "version": 3
   },
   "file_extension": ".py",
   "mimetype": "text/x-python",
   "name": "python",
   "nbconvert_exporter": "python",
   "pygments_lexer": "ipython3",
   "version": "3.8.3"
  }
 },
 "nbformat": 4,
 "nbformat_minor": 5
}
